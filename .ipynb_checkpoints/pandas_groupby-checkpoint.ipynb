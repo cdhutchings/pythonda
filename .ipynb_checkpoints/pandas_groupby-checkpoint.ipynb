{
 "cells": [
  {
   "cell_type": "markdown",
   "metadata": {},
   "source": [
    "# Groupby "
   ]
  },
  {
   "cell_type": "code",
   "execution_count": 1,
   "metadata": {},
   "outputs": [],
   "source": [
    "import numpy as np\n",
    "import pandas as pd\n",
    "from pandas import Series,DataFrame"
   ]
  },
  {
   "cell_type": "code",
   "execution_count": 2,
   "metadata": {},
   "outputs": [
    {
     "data": {
      "text/html": [
       "<div>\n",
       "<style scoped>\n",
       "    .dataframe tbody tr th:only-of-type {\n",
       "        vertical-align: middle;\n",
       "    }\n",
       "\n",
       "    .dataframe tbody tr th {\n",
       "        vertical-align: top;\n",
       "    }\n",
       "\n",
       "    .dataframe thead th {\n",
       "        text-align: right;\n",
       "    }\n",
       "</style>\n",
       "<table border=\"1\" class=\"dataframe\">\n",
       "  <thead>\n",
       "    <tr style=\"text-align: right;\">\n",
       "      <th></th>\n",
       "      <th>Sno</th>\n",
       "      <th>Date</th>\n",
       "      <th>Salesperson</th>\n",
       "      <th>Total_amount</th>\n",
       "    </tr>\n",
       "  </thead>\n",
       "  <tbody>\n",
       "    <tr>\n",
       "      <th>0</th>\n",
       "      <td>0</td>\n",
       "      <td>2000-01-03</td>\n",
       "      <td>Allen</td>\n",
       "      <td>12000</td>\n",
       "    </tr>\n",
       "    <tr>\n",
       "      <th>1</th>\n",
       "      <td>1</td>\n",
       "      <td>2000-01-04</td>\n",
       "      <td>Allen</td>\n",
       "      <td>15000</td>\n",
       "    </tr>\n",
       "    <tr>\n",
       "      <th>2</th>\n",
       "      <td>2</td>\n",
       "      <td>2000-01-05</td>\n",
       "      <td>Allen</td>\n",
       "      <td>25000</td>\n",
       "    </tr>\n",
       "    <tr>\n",
       "      <th>3</th>\n",
       "      <td>3</td>\n",
       "      <td>2000-01-03</td>\n",
       "      <td>Mathew</td>\n",
       "      <td>35000</td>\n",
       "    </tr>\n",
       "    <tr>\n",
       "      <th>4</th>\n",
       "      <td>4</td>\n",
       "      <td>2000-01-04</td>\n",
       "      <td>Mathew</td>\n",
       "      <td>65000</td>\n",
       "    </tr>\n",
       "    <tr>\n",
       "      <th>5</th>\n",
       "      <td>5</td>\n",
       "      <td>2000-01-05</td>\n",
       "      <td>Mathew</td>\n",
       "      <td>75000</td>\n",
       "    </tr>\n",
       "    <tr>\n",
       "      <th>6</th>\n",
       "      <td>6</td>\n",
       "      <td>2000-01-03</td>\n",
       "      <td>Clarke</td>\n",
       "      <td>65780</td>\n",
       "    </tr>\n",
       "    <tr>\n",
       "      <th>7</th>\n",
       "      <td>7</td>\n",
       "      <td>2000-01-04</td>\n",
       "      <td>Clarke</td>\n",
       "      <td>54670</td>\n",
       "    </tr>\n",
       "    <tr>\n",
       "      <th>8</th>\n",
       "      <td>8</td>\n",
       "      <td>2000-01-05</td>\n",
       "      <td>Clarke</td>\n",
       "      <td>77900</td>\n",
       "    </tr>\n",
       "    <tr>\n",
       "      <th>9</th>\n",
       "      <td>9</td>\n",
       "      <td>2000-01-03</td>\n",
       "      <td>Don</td>\n",
       "      <td>89000</td>\n",
       "    </tr>\n",
       "    <tr>\n",
       "      <th>10</th>\n",
       "      <td>10</td>\n",
       "      <td>2000-01-04</td>\n",
       "      <td>Don</td>\n",
       "      <td>70000</td>\n",
       "    </tr>\n",
       "    <tr>\n",
       "      <th>11</th>\n",
       "      <td>11</td>\n",
       "      <td>2000-01-05</td>\n",
       "      <td>Don</td>\n",
       "      <td>65000</td>\n",
       "    </tr>\n",
       "  </tbody>\n",
       "</table>\n",
       "</div>"
      ],
      "text/plain": [
       "    Sno       Date Salesperson  Total_amount\n",
       "0     0 2000-01-03       Allen         12000\n",
       "1     1 2000-01-04       Allen         15000\n",
       "2     2 2000-01-05       Allen         25000\n",
       "3     3 2000-01-03      Mathew         35000\n",
       "4     4 2000-01-04      Mathew         65000\n",
       "5     5 2000-01-05      Mathew         75000\n",
       "6     6 2000-01-03      Clarke         65780\n",
       "7     7 2000-01-04      Clarke         54670\n",
       "8     8 2000-01-05      Clarke         77900\n",
       "9     9 2000-01-03         Don         89000\n",
       "10   10 2000-01-04         Don         70000\n",
       "11   11 2000-01-05         Don         65000"
      ]
     },
     "execution_count": 2,
     "metadata": {},
     "output_type": "execute_result"
    }
   ],
   "source": [
    "xls = pd.ExcelFile(\"Sales_table.xlsx\")\n",
    "dframe = xls.parse(\"Sales\")\n",
    "dframe"
   ]
  },
  {
   "cell_type": "code",
   "execution_count": 9,
   "metadata": {},
   "outputs": [
    {
     "data": {
      "text/plain": [
       "<pandas.core.groupby.generic.DataFrameGroupBy object at 0x000001FA6DD530B8>"
      ]
     },
     "execution_count": 9,
     "metadata": {},
     "output_type": "execute_result"
    }
   ],
   "source": [
    "group1 = dframe.groupby(\"Date\") # the group is shown as an object which can be manipulated using loops\n",
    "group1"
   ]
  },
  {
   "cell_type": "code",
   "execution_count": 10,
   "metadata": {},
   "outputs": [
    {
     "name": "stdout",
     "output_type": "stream",
     "text": [
      "2000-01-03 00:00:00\n",
      "   Sno       Date Salesperson  Total_amount\n",
      "0    0 2000-01-03       Allen         12000\n",
      "3    3 2000-01-03      Mathew         35000\n",
      "6    6 2000-01-03      Clarke         65780\n",
      "9    9 2000-01-03         Don         89000\n",
      "2000-01-04 00:00:00\n",
      "    Sno       Date Salesperson  Total_amount\n",
      "1     1 2000-01-04       Allen         15000\n",
      "4     4 2000-01-04      Mathew         65000\n",
      "7     7 2000-01-04      Clarke         54670\n",
      "10   10 2000-01-04         Don         70000\n",
      "2000-01-05 00:00:00\n",
      "    Sno       Date Salesperson  Total_amount\n",
      "2     2 2000-01-05       Allen         25000\n",
      "5     5 2000-01-05      Mathew         75000\n",
      "8     8 2000-01-05      Clarke         77900\n",
      "11   11 2000-01-05         Don         65000\n"
     ]
    }
   ],
   "source": [
    "for group in group1:\n",
    "    for item in group:\n",
    "        print(item)"
   ]
  },
  {
   "cell_type": "code",
   "execution_count": 14,
   "metadata": {},
   "outputs": [
    {
     "name": "stdout",
     "output_type": "stream",
     "text": [
      "('Allen',    Sno       Date Salesperson  Total_amount\n",
      "0    0 2000-01-03       Allen         12000\n",
      "1    1 2000-01-04       Allen         15000\n",
      "2    2 2000-01-05       Allen         25000)\n",
      "('Clarke',    Sno       Date Salesperson  Total_amount\n",
      "6    6 2000-01-03      Clarke         65780\n",
      "7    7 2000-01-04      Clarke         54670\n",
      "8    8 2000-01-05      Clarke         77900)\n",
      "('Don',     Sno       Date Salesperson  Total_amount\n",
      "9     9 2000-01-03         Don         89000\n",
      "10   10 2000-01-04         Don         70000\n",
      "11   11 2000-01-05         Don         65000)\n",
      "('Mathew',    Sno       Date Salesperson  Total_amount\n",
      "3    3 2000-01-03      Mathew         35000\n",
      "4    4 2000-01-04      Mathew         65000\n",
      "5    5 2000-01-05      Mathew         75000)\n"
     ]
    }
   ],
   "source": [
    "for group in dframe.groupby(\"Salesperson\"): # An alternative method for displaying the data in the group\n",
    "    print(group)"
   ]
  }
 ],
 "metadata": {
  "kernelspec": {
   "display_name": "Python 3",
   "language": "python",
   "name": "python3"
  },
  "language_info": {
   "codemirror_mode": {
    "name": "ipython",
    "version": 3
   },
   "file_extension": ".py",
   "mimetype": "text/x-python",
   "name": "python",
   "nbconvert_exporter": "python",
   "pygments_lexer": "ipython3",
   "version": "3.7.3"
  }
 },
 "nbformat": 4,
 "nbformat_minor": 2
}
